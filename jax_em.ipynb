{
 "cells": [
  {
   "cell_type": "code",
   "execution_count": 19,
   "id": "56a60125",
   "metadata": {},
   "outputs": [],
   "source": [
    "import jax\n",
    "import jax.numpy as jnp\n",
    "import numpy as np\n",
    "import pandas as pd\n",
    "from time import time\n",
    "from sklearn.mixture import GaussianMixture\n",
    "import sklearn\n",
    "key = jax.random.PRNGKey(42)\n"
   ]
  },
  {
   "cell_type": "markdown",
   "id": "08bfc79c",
   "metadata": {},
   "source": [
    "### Load data"
   ]
  },
  {
   "cell_type": "code",
   "execution_count": 70,
   "id": "ae7dee26",
   "metadata": {},
   "outputs": [],
   "source": [
    "from sklearn.preprocessing import MinMaxScaler\n",
    "\n",
    "def load_synthetic_dataset(filename):\n",
    "    data = np.load(filename)\n",
    "    scaler = MinMaxScaler()\n",
    "    scaler.fit(data)\n",
    "    data = scaler.transform(data)\n",
    "    return data\n",
    "\n",
    "def load_cloud_dataset():\n",
    "    cloud_data_name = 'cloud.data'\n",
    "    with open(cloud_data_name) as f:\n",
    "        cloud_data = pd.DataFrame([item.split() for item in f.readlines()])\n",
    "    cloud_data = cloud_data.astype(float).to_numpy()\n",
    "    scaler = MinMaxScaler()\n",
    "    scaler.fit(cloud_data)\n",
    "    cloud_data = scaler.transform(cloud_data)\n",
    "    return cloud_data\n",
    "\n",
    "def load_breast_cancer():\n",
    "    bc_data_name = 'wdbc.data'\n",
    "    with open(bc_data_name) as f:\n",
    "        data_bc = pd.DataFrame([item.split(',')[2:] for item in f.readlines()])\n",
    "    data_bc = data_bc.astype(float).to_numpy()\n",
    "    scaler = MinMaxScaler()\n",
    "    scaler.fit(data_bc)\n",
    "    data_bc = scaler.transform(data_bc)\n",
    "    return data_bc\n"
   ]
  },
  {
   "cell_type": "markdown",
   "id": "18d87694",
   "metadata": {},
   "source": [
    "### Jax GMM"
   ]
  },
  {
   "cell_type": "code",
   "execution_count": 52,
   "id": "c976ccb3",
   "metadata": {},
   "outputs": [],
   "source": [
    "from sklearn.cluster import kmeans_plusplus\n",
    "from sklearn.cluster import KMeans\n",
    "\n",
    "class GuassianMixtureJax:\n",
    "    def __init__(self, dim, n_comp, n_init, verbose=False):\n",
    "        self.dim = dim\n",
    "        self.n_comp = n_comp\n",
    "        self.means = None\n",
    "        self.cov = None\n",
    "        self.weigths = None\n",
    "        self.n_init = n_init\n",
    "        self.verbose = verbose\n",
    "        self.is_init = False\n",
    "\n",
    "    def fit(self, data, max_iter):\n",
    "        \n",
    "        if not self.is_init:\n",
    "            self.km_init(data)\n",
    "            \n",
    "        def step_helper_fn(weights, means, cov):\n",
    "            log_lik = GuassianMixtureJax.loglikelihood(data, weights, means, cov)\n",
    "            new_weights_j, new_means_j, new_cov_j = GuassianMixtureJax.em_step(log_lik, data, weights, means, cov)\n",
    "            \n",
    "            return new_weights_j, new_means_j, new_cov_j\n",
    "\n",
    "        step_helper_vmap = jax.vmap(step_helper_fn, (0, 0, 0), (0, 0, 0))\n",
    "        \n",
    "        def step_fn(state):\n",
    "            i, data_, weights, means, cov = state\n",
    "            new_weights_j, new_means_j, new_cov_j = step_helper_vmap(weights, means, cov)\n",
    "            return i + 1, data_, new_weights_j, new_means_j, new_cov_j\n",
    "        \n",
    "        def cond_fn(state):\n",
    "            i, data_, weights, means, cov = state\n",
    "            return (i < max_iter)\n",
    "        \n",
    "        j, data__, new_weights, new_means, new_cov = jax.lax.while_loop(cond_fn, step_fn, (0, data, self.weights, self.means, self.cov))\n",
    "     \n",
    "    @staticmethod\n",
    "    @jax.jit\n",
    "    def em_step(log_lik, data, weigths, means, cov):\n",
    "        \n",
    "        eps = 1e-6\n",
    "        # Expectation\n",
    "        new_z = jax.nn.softmax(log_lik, 0)\n",
    "        # Minimization\n",
    "        # Weights\n",
    "        new_weights = jnp.mean(new_z, 1)\n",
    "        \n",
    "        # Means\n",
    "        mul = jax.vmap(lambda x, y: jnp.expand_dims(x, 1) * y, (0, None), 0)\n",
    "        new_mu = jnp.sum(mul(new_z, data), 1) / jnp.expand_dims(jnp.sum(new_z, 1), 1)\n",
    "        \n",
    "        # Sigma\n",
    "        outer_product_helper_1 = jax.vmap(lambda data, mu, z: z * jnp.expand_dims((data - mu), 1) @ jnp.expand_dims((data - mu), 1).T, (None, 0, 0), 0)\n",
    "        outer_product_helper_2 = jax.vmap(outer_product_helper_1, (0, None, 0), 0)\n",
    "        new_sigma = jnp.sum(outer_product_helper_2(data, new_mu, new_z.T), axis=0) / jnp.expand_dims(jnp.sum(new_z, 1), (1, 2))\n",
    "        dim = new_mu.shape[1]\n",
    "        n_comp = new_mu.shape[0]\n",
    "        reg_eye = jnp.expand_dims(jnp.eye(dim), 0).repeat(n_comp, axis=0)\n",
    "        return new_weights, new_mu, new_sigma + eps * reg_eye\n",
    "            \n",
    "    def k_pp_init(self, data):\n",
    "        means = []\n",
    "        for i in range(self.n_init):\n",
    "            means.append(kmeans_plusplus(data, self.n_comp)[0])\n",
    "            \n",
    "        means = jnp.asarray(means)\n",
    "        \n",
    "        cov = jnp.expand_dims(jnp.eye(self.dim), 0)\n",
    "        cov = cov.repeat(self.n_comp, 0)\n",
    "        cov = jnp.expand_dims(cov, 0)\n",
    "        cov = cov.repeat(self.n_init, 0)\n",
    "        \n",
    "        self.means = means\n",
    "        self.cov = cov\n",
    "        self.weights = jnp.ones([self.n_init, self.n_comp]) / self.n_comp\n",
    "        \n",
    "    def km_init(self, data):\n",
    "        means = []\n",
    "        \n",
    "        for i in range(self.n_init):\n",
    "            km = KMeans(n_clusters=self.n_comp, n_init=1).fit(data)\n",
    "            means.append(km.cluster_centers_)\n",
    "            \n",
    "        cov = jnp.expand_dims(jnp.eye(self.dim), 0)\n",
    "        cov = cov.repeat(self.n_comp, 0)\n",
    "        cov = jnp.expand_dims(cov, 0)\n",
    "        cov = cov.repeat(self.n_init, 0)\n",
    "        \n",
    "        global key\n",
    "        key, subkey = jax.random.split(key)\n",
    "        self.weights = jax.random.uniform(subkey, [self.n_init, self.n_comp])\n",
    "        self.weights = self.weights / jnp.expand_dims(jnp.linalg.norm(self.weights, axis=1), 1)\n",
    "        \n",
    "        self.means = jnp.asarray(means)\n",
    "        self.cov = cov\n",
    "        self.weights = jnp.ones([self.n_init, self.n_comp]) / self.n_comp\n",
    "        \n",
    "    def set_params(self, weights, means, cov):\n",
    "        self.weights = jnp.asarray(weights)\n",
    "        self.means = jnp.asarray(means)\n",
    "        self.cov = jnp.asarray(cov)\n",
    "        self.is_init = True\n",
    "        \n",
    "    @staticmethod\n",
    "    def sklearn_init(data, n_comp, n_init, init_params='kmeans'):\n",
    "        new_weights, new_means, new_cov = [], [], []\n",
    "        for i in range(n_init):\n",
    "            gmm_sklearn = GaussianMixture(n_comp, verbose=0, verbose_interval=1, max_iter=0, n_init=n_init, init_params=init_params)\n",
    "            gmm_sklearn.fit(data)\n",
    "\n",
    "            new_weights.append(gmm_sklearn.weights_)\n",
    "            new_means.append(gmm_sklearn.means_)\n",
    "            new_cov.append(gmm_sklearn.covariances_)\n",
    "        \n",
    "        return np.array(new_weights), np.array(new_means), np.array(new_cov)\n",
    "    \n",
    "    @staticmethod\n",
    "    @jax.jit\n",
    "    def loglikelihood(data, weigths, means, cov):\n",
    "        N = data.shape[0]\n",
    "        res = []\n",
    "        dim = means.shape[1]\n",
    "        \n",
    "        exp_sq = lambda data, mean, cov: -1 / 2 * (data - mean).T @ jnp.linalg.inv(cov) @ (data - mean)\n",
    "        exp_sq_vmap = jax.vmap(exp_sq, (0, None, None), 0)\n",
    "        \n",
    "        norm_const_fn = lambda cov: - dim / 2 * jnp.log(2 * jnp.pi) - 1 / 2 * jnp.log(jnp.linalg.det(cov))\n",
    "        \n",
    "        norm_const_fn_vmap = jax.vmap(norm_const_fn, (0), 0)\n",
    "\n",
    "        norm_const = norm_const_fn_vmap(cov)\n",
    "        \n",
    "        log_lik_fn = lambda data, means, cov, norm_const: exp_sq_vmap(data, means, cov) + norm_const\n",
    "        \n",
    "        log_lik_fn_vmap = jax.vmap(log_lik_fn, (None, 0, 0, 0), 0)\n",
    "        \n",
    "        res = log_lik_fn_vmap(data, means, cov, norm_const)\n",
    "        res += jnp.log(jnp.expand_dims(weigths, 1))\n",
    "        return res\n",
    "        \n",
    "    def score(self, data):\n",
    "        ret_val = []\n",
    "        for i in range(self.n_init):\n",
    "            log_lik_i = self.loglikelihood(data, self.weights[i], self.means[i], self.cov[i])\n",
    "\n",
    "            log_lik_i = jax.scipy.special.logsumexp(log_lik_i, axis=0)\n",
    "            log_lik_i = log_lik_i.mean()\n",
    "            ret_val.append(log_lik_i)\n",
    "            \n",
    "        return ret_val"
   ]
  },
  {
   "cell_type": "code",
   "execution_count": 32,
   "id": "48809866",
   "metadata": {},
   "outputs": [
    {
     "name": "stdout",
     "output_type": "stream",
     "text": [
      "[Array(-3.81695795, dtype=float64), Array(-3.81695795, dtype=float64), Array(-3.81695795, dtype=float64), Array(-3.81695795, dtype=float64)]\n"
     ]
    }
   ],
   "source": [
    "from sklearn import datasets\n",
    "\n",
    "data = datasets.make_blobs(n_samples=100)[0]\n",
    "\n",
    "gmm_jax = GuassianMixtureJax(dim=data.shape[1], n_comp=3, n_init=4)\n",
    "\n",
    "gmm_jax.fit(data, max_iter=5)\n",
    "print(gmm_jax.score(data))"
   ]
  },
  {
   "cell_type": "code",
   "execution_count": 33,
   "id": "98bceebf",
   "metadata": {},
   "outputs": [
    {
     "name": "stdout",
     "output_type": "stream",
     "text": [
      "Initialization 0\n",
      "  Iteration 1\t time lapse 0.00712s\t ll change inf\n",
      "  Iteration 2\t time lapse 0.00066s\t ll change 0.00000\n",
      "Initialization converged: True\t time lapse 0.00780s\t ll -3.76456\n",
      "Reference LogLik: -3.7645604536216717\n"
     ]
    },
    {
     "data": {
      "text/plain": [
       "[Array(-3.76456045, dtype=float64),\n",
       " Array(-3.76456045, dtype=float64),\n",
       " Array(-3.76456045, dtype=float64),\n",
       " Array(-3.76456045, dtype=float64)]"
      ]
     },
     "execution_count": 33,
     "metadata": {},
     "output_type": "execute_result"
    }
   ],
   "source": [
    "from sklearn.mixture import GaussianMixture\n",
    "\n",
    "gmm_sklearn = GaussianMixture(3, verbose=2, verbose_interval=1)\n",
    "\n",
    "gmm_sklearn.fit(data)\n",
    "print(f'Reference LogLik: {gmm_sklearn.score(data)}')\n",
    "\n",
    "weights = gmm_sklearn.weights_\n",
    "means = gmm_sklearn.means_\n",
    "cov = gmm_sklearn.covariances_\n",
    "\n",
    "gmm_jax.weights = jnp.asarray(jnp.expand_dims(weights, 0).repeat(10, 0))\n",
    "gmm_jax.means = jnp.asarray(jnp.expand_dims(means, 0).repeat(10, 0))\n",
    "gmm_jax.cov = jnp.asarray(jnp.expand_dims(cov, 0).repeat(10, 0))\n",
    "\n",
    "gmm_jax.score(data)"
   ]
  },
  {
   "cell_type": "markdown",
   "id": "b7a326b9",
   "metadata": {},
   "source": [
    "## Time measurements"
   ]
  },
  {
   "cell_type": "code",
   "execution_count": 64,
   "id": "52b1a877",
   "metadata": {},
   "outputs": [
    {
     "name": "stderr",
     "output_type": "stream",
     "text": [
      "/opt/conda/lib/python3.10/site-packages/sklearn/mixture/_base.py:274: ConvergenceWarning: Initialization 5 did not converge. Try different init parameters, or increase max_iter, tol or check for degenerate data.\n",
      "  warnings.warn(\n",
      "/opt/conda/lib/python3.10/site-packages/sklearn/mixture/_base.py:274: ConvergenceWarning: Initialization 5 did not converge. Try different init parameters, or increase max_iter, tol or check for degenerate data.\n",
      "  warnings.warn(\n",
      "/opt/conda/lib/python3.10/site-packages/sklearn/mixture/_base.py:274: ConvergenceWarning: Initialization 10 did not converge. Try different init parameters, or increase max_iter, tol or check for degenerate data.\n",
      "  warnings.warn(\n",
      "/opt/conda/lib/python3.10/site-packages/sklearn/mixture/_base.py:274: ConvergenceWarning: Initialization 10 did not converge. Try different init parameters, or increase max_iter, tol or check for degenerate data.\n",
      "  warnings.warn(\n",
      "/opt/conda/lib/python3.10/site-packages/sklearn/mixture/_base.py:274: ConvergenceWarning: Initialization 20 did not converge. Try different init parameters, or increase max_iter, tol or check for degenerate data.\n",
      "  warnings.warn(\n",
      "/opt/conda/lib/python3.10/site-packages/sklearn/mixture/_base.py:274: ConvergenceWarning: Initialization 20 did not converge. Try different init parameters, or increase max_iter, tol or check for degenerate data.\n",
      "  warnings.warn(\n",
      "/opt/conda/lib/python3.10/site-packages/sklearn/mixture/_base.py:274: ConvergenceWarning: Initialization 50 did not converge. Try different init parameters, or increase max_iter, tol or check for degenerate data.\n",
      "  warnings.warn(\n",
      "/opt/conda/lib/python3.10/site-packages/sklearn/mixture/_base.py:274: ConvergenceWarning: Initialization 50 did not converge. Try different init parameters, or increase max_iter, tol or check for degenerate data.\n",
      "  warnings.warn(\n",
      "/opt/conda/lib/python3.10/site-packages/sklearn/mixture/_base.py:274: ConvergenceWarning: Initialization 100 did not converge. Try different init parameters, or increase max_iter, tol or check for degenerate data.\n",
      "  warnings.warn(\n",
      "/opt/conda/lib/python3.10/site-packages/sklearn/mixture/_base.py:274: ConvergenceWarning: Initialization 100 did not converge. Try different init parameters, or increase max_iter, tol or check for degenerate data.\n",
      "  warnings.warn(\n",
      "/opt/conda/lib/python3.10/site-packages/sklearn/mixture/_base.py:274: ConvergenceWarning: Initialization 150 did not converge. Try different init parameters, or increase max_iter, tol or check for degenerate data.\n",
      "  warnings.warn(\n",
      "/opt/conda/lib/python3.10/site-packages/sklearn/mixture/_base.py:274: ConvergenceWarning: Initialization 150 did not converge. Try different init parameters, or increase max_iter, tol or check for degenerate data.\n",
      "  warnings.warn(\n"
     ]
    }
   ],
   "source": [
    "\n",
    "def compare_sklearn_and_jax(data, n_init_list, n_comp, max_iter=5, n_runs=10):\n",
    "    sklearn_time = {}\n",
    "    jax_time = {}\n",
    "    for n_init in n_init_list:\n",
    "        # sklearn part\n",
    "        time_storage = []\n",
    "        for n in range(n_runs):\n",
    "            gmm_sklearn = GaussianMixture(n_comp, max_iter=max_iter, n_init=n_init, init_params='kmeans')\n",
    "            start = time()\n",
    "\n",
    "            gmm_sklearn.fit(data)\n",
    "\n",
    "            time_storage.append(time() - start)\n",
    "        \n",
    "        sklearn_time[n_init] = np.mean(time_storage)\n",
    "        \n",
    "        # jax part\n",
    "        time_storage = []\n",
    "        for n in range(n_runs):\n",
    "            gmm_jax = GuassianMixtureJax(dim=data.shape[1], n_comp=n_comp, n_init=n_init)\n",
    "\n",
    "            start = time()\n",
    "\n",
    "            gmm_jax.fit(data, max_iter)\n",
    "\n",
    "            time_storage.append(time() - start)\n",
    "            \n",
    "        jax_time[n_init] = np.mean(time_storage)\n",
    "    return sklearn_time, jax_time\n",
    "        \n",
    "data = load_cloud_dataset()\n",
    "\n",
    "sklearn_time_cloud, jax_time_cloud = compare_sklearn_and_jax(data, [5, 10, 20, 50, 100, 150], 5, n_runs=2)\n"
   ]
  },
  {
   "cell_type": "code",
   "execution_count": 65,
   "id": "39b25fc1",
   "metadata": {},
   "outputs": [
    {
     "data": {
      "text/plain": [
       "<matplotlib.legend.Legend at 0x7fb705de7220>"
      ]
     },
     "execution_count": 65,
     "metadata": {},
     "output_type": "execute_result"
    },
    {
     "data": {
      "image/png": "[encoded data removed]",
      "text/plain": [
       "<Figure size 640x480 with 1 Axes>"
      ]
     },
     "metadata": {},
     "output_type": "display_data"
    }
   ],
   "source": [
    "import matplotlib.pyplot as plt\n",
    "\n",
    "plt.plot(jax_time_cloud.keys(), jax_time_cloud.values(), label='Jax')\n",
    "plt.plot(sklearn_time_cloud.keys(), sklearn_time_cloud.values(), label='Sklearn')\n",
    "plt.title('Cloud')\n",
    "plt.legend()"
   ]
  },
  {
   "cell_type": "code",
   "execution_count": 66,
   "id": "23d6fe2b",
   "metadata": {},
   "outputs": [
    {
     "name": "stderr",
     "output_type": "stream",
     "text": [
      "/opt/conda/lib/python3.10/site-packages/sklearn/mixture/_base.py:274: ConvergenceWarning: Initialization 5 did not converge. Try different init parameters, or increase max_iter, tol or check for degenerate data.\n",
      "  warnings.warn(\n",
      "/opt/conda/lib/python3.10/site-packages/sklearn/mixture/_base.py:274: ConvergenceWarning: Initialization 5 did not converge. Try different init parameters, or increase max_iter, tol or check for degenerate data.\n",
      "  warnings.warn(\n",
      "/opt/conda/lib/python3.10/site-packages/sklearn/mixture/_base.py:274: ConvergenceWarning: Initialization 10 did not converge. Try different init parameters, or increase max_iter, tol or check for degenerate data.\n",
      "  warnings.warn(\n",
      "/opt/conda/lib/python3.10/site-packages/sklearn/mixture/_base.py:274: ConvergenceWarning: Initialization 10 did not converge. Try different init parameters, or increase max_iter, tol or check for degenerate data.\n",
      "  warnings.warn(\n",
      "/opt/conda/lib/python3.10/site-packages/sklearn/mixture/_base.py:274: ConvergenceWarning: Initialization 20 did not converge. Try different init parameters, or increase max_iter, tol or check for degenerate data.\n",
      "  warnings.warn(\n",
      "/opt/conda/lib/python3.10/site-packages/sklearn/mixture/_base.py:274: ConvergenceWarning: Initialization 20 did not converge. Try different init parameters, or increase max_iter, tol or check for degenerate data.\n",
      "  warnings.warn(\n",
      "/opt/conda/lib/python3.10/site-packages/sklearn/mixture/_base.py:274: ConvergenceWarning: Initialization 50 did not converge. Try different init parameters, or increase max_iter, tol or check for degenerate data.\n",
      "  warnings.warn(\n",
      "/opt/conda/lib/python3.10/site-packages/sklearn/mixture/_base.py:274: ConvergenceWarning: Initialization 50 did not converge. Try different init parameters, or increase max_iter, tol or check for degenerate data.\n",
      "  warnings.warn(\n",
      "/opt/conda/lib/python3.10/site-packages/sklearn/mixture/_base.py:274: ConvergenceWarning: Initialization 100 did not converge. Try different init parameters, or increase max_iter, tol or check for degenerate data.\n",
      "  warnings.warn(\n",
      "/opt/conda/lib/python3.10/site-packages/sklearn/mixture/_base.py:274: ConvergenceWarning: Initialization 100 did not converge. Try different init parameters, or increase max_iter, tol or check for degenerate data.\n",
      "  warnings.warn(\n"
     ]
    },
    {
     "data": {
      "text/plain": [
       "<matplotlib.legend.Legend at 0x7fb705d73d90>"
      ]
     },
     "execution_count": 66,
     "metadata": {},
     "output_type": "execute_result"
    },
    {
     "data": {
      "image/png": "[encoded data removed]",
      "text/plain": [
       "<Figure size 640x480 with 1 Axes>"
      ]
     },
     "metadata": {},
     "output_type": "display_data"
    }
   ],
   "source": [
    "\n",
    "from sklearn.datasets import load_digits\n",
    "data = load_digits()['data']\n",
    "\n",
    "sklearn_time_digits, jax_time_digits = compare_sklearn_and_jax(data, [5, 10, 20, 50, 100], 10, n_runs=2)\n",
    "\n",
    "plt.plot(jax_time_digits.keys(), jax_time_digits.values(), label='Jax')\n",
    "plt.plot(sklearn_time_digits.keys(), sklearn_time_digits.values(), label='Sklearn')\n",
    "plt.title('Digits')\n",
    "plt.legend()\n"
   ]
  },
  {
   "cell_type": "code",
   "execution_count": 71,
   "id": "eb570db4",
   "metadata": {},
   "outputs": [
    {
     "name": "stderr",
     "output_type": "stream",
     "text": [
      "/opt/conda/lib/python3.10/site-packages/sklearn/mixture/_base.py:274: ConvergenceWarning: Initialization 5 did not converge. Try different init parameters, or increase max_iter, tol or check for degenerate data.\n",
      "  warnings.warn(\n",
      "/opt/conda/lib/python3.10/site-packages/sklearn/mixture/_base.py:274: ConvergenceWarning: Initialization 5 did not converge. Try different init parameters, or increase max_iter, tol or check for degenerate data.\n",
      "  warnings.warn(\n",
      "/opt/conda/lib/python3.10/site-packages/sklearn/mixture/_base.py:274: ConvergenceWarning: Initialization 10 did not converge. Try different init parameters, or increase max_iter, tol or check for degenerate data.\n",
      "  warnings.warn(\n",
      "/opt/conda/lib/python3.10/site-packages/sklearn/mixture/_base.py:274: ConvergenceWarning: Initialization 10 did not converge. Try different init parameters, or increase max_iter, tol or check for degenerate data.\n",
      "  warnings.warn(\n",
      "/opt/conda/lib/python3.10/site-packages/sklearn/mixture/_base.py:274: ConvergenceWarning: Initialization 20 did not converge. Try different init parameters, or increase max_iter, tol or check for degenerate data.\n",
      "  warnings.warn(\n",
      "/opt/conda/lib/python3.10/site-packages/sklearn/mixture/_base.py:274: ConvergenceWarning: Initialization 20 did not converge. Try different init parameters, or increase max_iter, tol or check for degenerate data.\n",
      "  warnings.warn(\n",
      "/opt/conda/lib/python3.10/site-packages/sklearn/mixture/_base.py:274: ConvergenceWarning: Initialization 50 did not converge. Try different init parameters, or increase max_iter, tol or check for degenerate data.\n",
      "  warnings.warn(\n",
      "/opt/conda/lib/python3.10/site-packages/sklearn/mixture/_base.py:274: ConvergenceWarning: Initialization 50 did not converge. Try different init parameters, or increase max_iter, tol or check for degenerate data.\n",
      "  warnings.warn(\n",
      "/opt/conda/lib/python3.10/site-packages/sklearn/mixture/_base.py:274: ConvergenceWarning: Initialization 100 did not converge. Try different init parameters, or increase max_iter, tol or check for degenerate data.\n",
      "  warnings.warn(\n",
      "/opt/conda/lib/python3.10/site-packages/sklearn/mixture/_base.py:274: ConvergenceWarning: Initialization 100 did not converge. Try different init parameters, or increase max_iter, tol or check for degenerate data.\n",
      "  warnings.warn(\n"
     ]
    },
    {
     "data": {
      "text/plain": [
       "<matplotlib.legend.Legend at 0x7fb70599d4b0>"
      ]
     },
     "execution_count": 71,
     "metadata": {},
     "output_type": "execute_result"
    },
    {
     "data": {
      "image/png": "[encoded data removed]",
      "text/plain": [
       "<Figure size 640x480 with 1 Axes>"
      ]
     },
     "metadata": {},
     "output_type": "display_data"
    }
   ],
   "source": [
    "\n",
    "data = load_breast_cancer()\n",
    "\n",
    "sklearn_time_bc, jax_time_bc = compare_sklearn_and_jax(data, [5, 10, 20, 50, 100], 10, n_runs=2)\n",
    "\n",
    "plt.plot(jax_time_bc.keys(), jax_time_bc.values(), label='Jax')\n",
    "plt.plot(sklearn_time_bc.keys(), sklearn_time_bc.values(), label='Sklearn')\n",
    "plt.title('Breast Cancer')\n",
    "plt.legend()"
   ]
  },
  {
   "cell_type": "code",
   "execution_count": null,
   "id": "5e056167",
   "metadata": {},
   "outputs": [],
   "source": []
  }
 ],
 "metadata": {
  "kernelspec": {
   "display_name": "Python 3 (ipykernel)",
   "language": "python",
   "name": "python3"
  },
  "language_info": {
   "codemirror_mode": {
    "name": "ipython",
    "version": 3
   },
   "file_extension": ".py",
   "mimetype": "text/x-python",
   "name": "python",
   "nbconvert_exporter": "python",
   "pygments_lexer": "ipython3",
   "version": "3.10.10"
  }
 },
 "nbformat": 4,
 "nbformat_minor": 5
}
