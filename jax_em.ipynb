{
 "cells": [
  {
   "cell_type": "code",
   "execution_count": 1,
   "id": "56a60125",
   "metadata": {},
   "outputs": [],
   "source": [
    "import jax\n",
    "import jax.numpy as jnp"
   ]
  },
  {
   "cell_type": "code",
   "execution_count": 2,
   "id": "1df39eeb",
   "metadata": {},
   "outputs": [],
   "source": [
    "key = jax.random.PRNGKey(42)\n",
    "N = 100\n",
    "A = jax.random.normal(key, shape=(N, N))"
   ]
  },
  {
   "cell_type": "code",
   "execution_count": 3,
   "id": "018df8ba",
   "metadata": {},
   "outputs": [],
   "source": [
    "A_inv = jnp.linalg.inv(A)"
   ]
  },
  {
   "cell_type": "code",
   "execution_count": 4,
   "id": "82e38dcd",
   "metadata": {},
   "outputs": [
    {
     "name": "stdout",
     "output_type": "stream",
     "text": [
      "float64\n",
      "float64\n"
     ]
    }
   ],
   "source": [
    "batch_size = 50\n",
    "key, subkey = jax.random.split(key)\n",
    "\n",
    "A_bacthed = jax.random.normal(subkey, shape=(batch_size, N, N), dtype=jnp.float64)\n",
    "print(A_bacthed.dtype)\n",
    "A_bacthed = jnp.asarray(A_bacthed, dtype=jnp.float64)\n",
    "print(A_bacthed.dtype)\n",
    "batched_inv = jax.vmap(jnp.linalg.inv, (0), 0)\n",
    "\n",
    "A_inv_batched = batched_inv(A_bacthed)"
   ]
  },
  {
   "cell_type": "code",
   "execution_count": 7,
   "id": "2c5ca31f",
   "metadata": {},
   "outputs": [
    {
     "name": "stdout",
     "output_type": "stream",
     "text": [
      "1.7136684115479701e-13\n"
     ]
    }
   ],
   "source": [
    "A_inv_batched.shape\n",
    "\n",
    "supposed_eye = jnp.matmul(A_inv_batched, A_bacthed, precision=jax.lax.Precision.HIGH)\n",
    "\n",
    "print(jnp.linalg.norm(supposed_eye - jnp.eye(N), axis=0).mean())"
   ]
  },
  {
   "cell_type": "code",
   "execution_count": 216,
   "id": "c976ccb3",
   "metadata": {},
   "outputs": [],
   "source": [
    "from sklearn.cluster import kmeans_plusplus\n",
    "\n",
    "class GuassianMixture:\n",
    "    def __init__(self, dim, n_comp, n_init):\n",
    "        self.dim = dim\n",
    "        self.n_comp = n_comp\n",
    "        self.means = None\n",
    "        self.cov = None\n",
    "        self.weigths = None\n",
    "        self.n_init = n_init\n",
    "\n",
    "    def fit(self, data, max_iter):\n",
    "        new_weights, new_means, new_cov = [], [], []\n",
    "        for i in range(max_iter):\n",
    "            for j in range(self.n_init):\n",
    "                log_lik = self.loglikelihood(data, j)\n",
    "                new_weights_j, new_means_j, new_cov_j = self.em_step(log_lik, data, self.weights[j], self.means[j], self.cov[j])\n",
    "                new_weights.append(new_weights_j)\n",
    "                new_means.append(new_means_j)\n",
    "                new_cov.append(new_cov_j)\n",
    "                \n",
    "            self.weights = jnp.asarray(new_weights)\n",
    "            self.means = jnp.asarray(new_means)\n",
    "            self.cov = jnp.asarray(new_cov)\n",
    "            print(self.score(data))\n",
    "        \n",
    "    def em_step(self, log_lik, data, weigths, means, cov):\n",
    "        # Expectation\n",
    "        new_z = jax.nn.softmax(log_lik, 0)\n",
    "        # Minimization\n",
    "        # Weights\n",
    "        new_weights = jnp.mean(new_z, 1)\n",
    "        \n",
    "        # Means\n",
    "        mul = jax.vmap(lambda x, y: jnp.expand_dims(x, 1) * y, (0, None), 0)\n",
    "        new_mu = jnp.sum(mul(new_z, data), 1) / jnp.expand_dims(jnp.sum(new_z, 1), 1)\n",
    "        \n",
    "        # Sigma\n",
    "        outer_product_helper_1 = jax.vmap(lambda data, mu, z: z * jnp.expand_dims((data - mu), 1) @ jnp.expand_dims((data - mu), 1).T, (None, 0, 0), 0)\n",
    "        outer_product_helper_2 = jax.vmap(outer_product_helper_1, (0, None, 0), 0)\n",
    "        new_sigma = jnp.sum(outer_product_helper_2(data, new_mu, new_z.T), axis=0) / jnp.expand_dims(jnp.sum(new_z, 1), (1, 2))\n",
    "        \n",
    "        return new_weights, new_mu, new_sigma\n",
    "            \n",
    "    def k_pp_init(self, data):\n",
    "        means = []\n",
    "        for i in range(self.n_init):\n",
    "            means.append(kmeans_plusplus(data, self.n_comp)[0])\n",
    "            \n",
    "        means = jnp.asarray(means)\n",
    "        \n",
    "        cov = jnp.expand_dims(jnp.eye(self.dim), 0)\n",
    "        cov = cov.repeat(self.n_comp, 0)\n",
    "        cov = jnp.expand_dims(cov, 0)\n",
    "        cov = cov.repeat(self.n_init, 0)\n",
    "        \n",
    "        self.means = means\n",
    "        self.cov = cov\n",
    "        self.weights = jnp.ones([self.n_init, self.n_comp]) / self.n_comp\n",
    "            \n",
    "    def loglikelihood(self, data, n_init=0):\n",
    "        N = data.shape[0]\n",
    "        res = []\n",
    "        \n",
    "        exp_sq = lambda data, mean, cov: -1 / 2 * (data - mean).T @ jnp.linalg.inv(cov) @ (data - mean)\n",
    "        exp_sq_vmap = jax.vmap(exp_sq, (0, None, None), 0)\n",
    "        \n",
    "        for i in range(self.n_comp):\n",
    "            log_lik_data_comp = - self.dim / 2 * jnp.log(2 * jnp.pi) - 1 / 2 * jnp.log(jnp.linalg.det(self.cov[n_init][i]))\n",
    "            \n",
    "            res_exp_sq = exp_sq_vmap(data, self.means[n_init][i], self.cov[n_init][i])\n",
    "            log_lik_data_comp += res_exp_sq\n",
    "            res.append(log_lik_data_comp)\n",
    "        \n",
    "        res = jnp.asarray(res) + jnp.log(jnp.expand_dims(self.weights[i], 1))\n",
    "        return res\n",
    "        \n",
    "    def score(self, data):\n",
    "        ret_val = []\n",
    "        for i in range(self.n_init):\n",
    "            log_lik_i = self.loglikelihood(data, n_init=i)\n",
    "            log_lik_i = jax.scipy.special.logsumexp(log_lik_i, axis=0)\n",
    "            log_lik_i = log_lik_i.mean()\n",
    "            ret_val.append(log_lik_i)\n",
    "            \n",
    "        return ret_val"
   ]
  },
  {
   "cell_type": "code",
   "execution_count": 217,
   "id": "48809866",
   "metadata": {},
   "outputs": [
    {
     "name": "stdout",
     "output_type": "stream",
     "text": [
      "[Array(-5.06478636, dtype=float64), Array(-12.18989855, dtype=float64), Array(-4.40431633, dtype=float64), Array(-4.90278576, dtype=float64), Array(-5.13034089, dtype=float64), Array(-5.39848367, dtype=float64), Array(-4.32437989, dtype=float64), Array(-4.72667753, dtype=float64), Array(-4.61508997, dtype=float64), Array(-4.31340248, dtype=float64)]\n",
      "[Array(-3.95643908, dtype=float64), Array(-4.34296159, dtype=float64), Array(-3.95029736, dtype=float64), Array(-3.96914911, dtype=float64), Array(-4.01983422, dtype=float64), Array(-4.02073494, dtype=float64), Array(-3.95801431, dtype=float64), Array(-3.96190086, dtype=float64), Array(-3.97195546, dtype=float64), Array(-3.95510778, dtype=float64)]\n",
      "[Array(-3.95643908, dtype=float64), Array(-4.34296159, dtype=float64), Array(-3.95029736, dtype=float64), Array(-3.96914911, dtype=float64), Array(-4.01983422, dtype=float64), Array(-4.02073494, dtype=float64), Array(-3.95801431, dtype=float64), Array(-3.96190086, dtype=float64), Array(-3.97195546, dtype=float64), Array(-3.95510778, dtype=float64)]\n",
      "[Array(-3.95643908, dtype=float64), Array(-4.34296159, dtype=float64), Array(-3.95029736, dtype=float64), Array(-3.96914911, dtype=float64), Array(-4.01983422, dtype=float64), Array(-4.02073494, dtype=float64), Array(-3.95801431, dtype=float64), Array(-3.96190086, dtype=float64), Array(-3.97195546, dtype=float64), Array(-3.95510778, dtype=float64)]\n",
      "[Array(-3.95643908, dtype=float64), Array(-4.34296159, dtype=float64), Array(-3.95029736, dtype=float64), Array(-3.96914911, dtype=float64), Array(-4.01983422, dtype=float64), Array(-4.02073494, dtype=float64), Array(-3.95801431, dtype=float64), Array(-3.96190086, dtype=float64), Array(-3.97195546, dtype=float64), Array(-3.95510778, dtype=float64)]\n",
      "[Array(-3.95643908, dtype=float64), Array(-4.34296159, dtype=float64), Array(-3.95029736, dtype=float64), Array(-3.96914911, dtype=float64), Array(-4.01983422, dtype=float64), Array(-4.02073494, dtype=float64), Array(-3.95801431, dtype=float64), Array(-3.96190086, dtype=float64), Array(-3.97195546, dtype=float64), Array(-3.95510778, dtype=float64)]\n"
     ]
    }
   ],
   "source": [
    "from sklearn import datasets\n",
    "\n",
    "data = datasets.make_blobs(n_samples=100)[0]\n",
    "\n",
    "gmm_jax = GuassianMixture(dim=data.shape[1], n_comp=3, n_init=10)\n",
    "\n",
    "gmm_jax.k_pp_init(data)\n",
    "\n",
    "gmm_jax.loglikelihood(data)\n",
    "\n",
    "gmm_jax.score(data)\n",
    "\n",
    "gmm_jax.fit(data, max_iter=5)"
   ]
  },
  {
   "cell_type": "code",
   "execution_count": 221,
   "id": "98bceebf",
   "metadata": {},
   "outputs": [
    {
     "name": "stdout",
     "output_type": "stream",
     "text": [
      "Initialization 0\n",
      "  Iteration 1\t time lapse 0.00409s\t ll change inf\n",
      "  Iteration 2\t time lapse 0.00044s\t ll change 0.00071\n",
      "Initialization converged: True\t time lapse 0.00455s\t ll -3.94960\n",
      "Reference LogLik: -3.949423290853575\n"
     ]
    },
    {
     "data": {
      "text/plain": [
       "[Array(-3.94942329, dtype=float64),\n",
       " Array(-3.94942329, dtype=float64),\n",
       " Array(-3.94942329, dtype=float64),\n",
       " Array(-3.94942329, dtype=float64),\n",
       " Array(-3.94942329, dtype=float64),\n",
       " Array(-3.94942329, dtype=float64),\n",
       " Array(-3.94942329, dtype=float64),\n",
       " Array(-3.94942329, dtype=float64),\n",
       " Array(-3.94942329, dtype=float64),\n",
       " Array(-3.94942329, dtype=float64)]"
      ]
     },
     "execution_count": 221,
     "metadata": {},
     "output_type": "execute_result"
    }
   ],
   "source": [
    "from sklearn.mixture import GaussianMixture\n",
    "\n",
    "gmm_sklearn = GaussianMixture(3, verbose=2, verbose_interval=1)\n",
    "\n",
    "gmm_sklearn.fit(data)\n",
    "print(f'Reference LogLik: {gmm_sklearn.score(data)}')\n",
    "\n",
    "weights = gmm_sklearn.weights_\n",
    "means = gmm_sklearn.means_\n",
    "cov = gmm_sklearn.covariances_\n",
    "\n",
    "\n",
    "gmm_jax.weights = jnp.asarray(jnp.expand_dims(weights, 0).repeat(10, 0))\n",
    "gmm_jax.means = jnp.asarray(jnp.expand_dims(means, 0).repeat(10, 0))\n",
    "gmm_jax.cov = jnp.asarray(jnp.expand_dims(cov, 0).repeat(10, 0))\n",
    "\n",
    "gmm_jax.score(data)"
   ]
  },
  {
   "cell_type": "code",
   "execution_count": null,
   "id": "d0c30091",
   "metadata": {},
   "outputs": [],
   "source": []
  },
  {
   "cell_type": "code",
   "execution_count": null,
   "id": "9b2efbbc",
   "metadata": {},
   "outputs": [],
   "source": []
  }
 ],
 "metadata": {
  "kernelspec": {
   "display_name": "Python 3 (ipykernel)",
   "language": "python",
   "name": "python3"
  },
  "language_info": {
   "codemirror_mode": {
    "name": "ipython",
    "version": 3
   },
   "file_extension": ".py",
   "mimetype": "text/x-python",
   "name": "python",
   "nbconvert_exporter": "python",
   "pygments_lexer": "ipython3",
   "version": "3.10.10"
  }
 },
 "nbformat": 4,
 "nbformat_minor": 5
}
